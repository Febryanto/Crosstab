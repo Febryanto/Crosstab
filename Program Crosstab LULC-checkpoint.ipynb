{
 "cells": [
  {
   "cell_type": "code",
   "execution_count": 2,
   "id": "ed26655b-bc8b-4300-b2ec-2a69c46fcb1f",
   "metadata": {},
   "outputs": [
    {
     "name": "stdout",
     "output_type": "stream",
     "text": [
      "Crosstabulation:\n",
      " LULC 2010      air  bangunan  vegetasi  sawah  lahan kosong\n",
      "LULC 2000                                                  \n",
      "air           6490        52      1251      0           302\n",
      "bangunan         0     13867         0      0             0\n",
      "vegetasi       154       257      7430   1705          3467\n",
      "sawah            0       416         0  17527             0\n",
      "lahan kosong  1927      6683     11203      0         27710 \n",
      "\n"
     ]
    }
   ],
   "source": [
    "import rasterio  # Mengimpor modul rasterio untuk membaca dan memproses data raster\n",
    "import numpy as np  # Mengimpor modul numpy untuk operasi numerik\n",
    "import pandas as pd  # Mengimpor modul pandas untuk analisis data tabular\n",
    "from rasterio import plot  # Mengimpor fungsi plot dari modul rasterio\n",
    "from rasterio.transform import Affine  # Mengimpor kelas Affine dari modul rasterio.transform\n",
    "\n",
    "# Definisikan sistem referensi koordinat (CRS) yang digunakan dalam data raster\n",
    "# Definisikan transformasi affine untuk data raster\n",
    "crs = 'EPSG:4326'  \n",
    "transform = Affine(0.01, 0, 0, 0, -0.01, 0)  \n",
    "\n",
    "# Tentukan lokasi file GeoTIFF pertama\n",
    "filepath_citra1 = 'TIF koreksi/2000_CART_modif2.tif'  \n",
    "\n",
    "# Buka file GeoTIFF pertama dengan mode baca menggunakan rasterio.open() dan atur CRS serta transformasinya\n",
    "# Baca band pertama dari file raster sebagai float\n",
    "with rasterio.open(filepath_citra1, 'r', driver='GTiff', crs=crs, transform=transform) as src1:\n",
    "    raster_t1 = src1.read(1).astype(float)  \n",
    "\n",
    "# Tentukan nama file untuk menyimpan data raster pertama sebagai teks\n",
    "inputfile_t1 = 't1.txt'  \n",
    "\n",
    "# Simpan matriks NumPy sebagai file teks\n",
    "np.savetxt(inputfile_t1, raster_t1, fmt='%d', delimiter=',')  \n",
    "\n",
    "# Tentukan lokasi file GeoTIFF kedua\n",
    "filepath_citra2 = 'TIF koreksi/2010_CART_modif2.tif'  \n",
    "\n",
    "# Buka file GeoTIFF kedua dengan mode baca menggunakan rasterio.open() dan atur CRS serta transformasinya\n",
    "# Baca band pertama dari file raster kedua sebagai float\n",
    "with rasterio.open(filepath_citra2, 'r', driver='GTiff', crs=crs, transform=transform) as src2:\n",
    "    raster_t2 = src2.read(1).astype(float)  \n",
    "\n",
    "# Tentukan nama file untuk menyimpan data raster kedua sebagai teks\n",
    "inputfile_t2 = 't2.txt'  \n",
    "\n",
    "# Simpan matriks NumPy sebagai file teks\n",
    "np.savetxt(inputfile_t2, raster_t2, fmt='%d', delimiter=',')  \n",
    "\n",
    "# Ubah data raster pertama menjadi array NumPy\n",
    "array1 = np.array(raster_t1)  \n",
    "\n",
    "# Ubah data raster kedua menjadi array NumPy\n",
    "array2 = np.array(raster_t2)  \n",
    "\n",
    "# Ratakan data raster pertama menjadi array 1 dimensi\n",
    "flat_data1 = raster_t1.flatten()  \n",
    "\n",
    "# Ratakan data raster kedua menjadi array 1 dimensi\n",
    "flat_data2 = raster_t2.flatten()  \n",
    "\n",
    "# Buat DataFrame Pandas dari data raster\n",
    "df = pd.DataFrame({'LULC 2000': flat_data1, 'LULC 2010': flat_data2})  \n",
    "\n",
    "# Buat tabel silang dari DataFrame\n",
    "crosstab = pd.crosstab(df['LULC 2000'], df['LULC 2010'])  \n",
    "\n",
    "# Definisikan klasifikasi untuk kode land use/land cover (LULC)\n",
    "klasifikasi = {  \n",
    "    0: 'air',\n",
    "    1: 'bangunan',\n",
    "    2: 'vegetasi',\n",
    "    3: 'sawah',\n",
    "    4: 'lahan kosong'\n",
    "}\n",
    "\n",
    "# Ubah nama kolom dan indeks berdasarkan klasifikasi\n",
    "crosstab = crosstab.rename(columns=klasifikasi, index=klasifikasi)  \n",
    "\n",
    "# Tentukan nama file untuk menyimpan tabel silang sebagai teks\n",
    "output_file_tabelsilang = 'tabelsilang.txt'  \n",
    "\n",
    "# Simpan tabel silang sebagai file teks\n",
    "np.savetxt(output_file_tabelsilang, crosstab, fmt='%f', delimiter=',')  \n",
    "\n",
    "# Cetak hasil tabel silang\n",
    "print(\"Crosstabulation:\"+\"\\n\", crosstab, \"\\n\")  "
   ]
  },
  {
   "cell_type": "code",
   "execution_count": 3,
   "id": "4213fc48-5485-4bb0-956e-4fd98972b187",
   "metadata": {},
   "outputs": [
    {
     "name": "stdout",
     "output_type": "stream",
     "text": [
      "Matriks Probabilitas: \n",
      " LULC 2010          air  bangunan  vegetasi     sawah  lahan kosong\n",
      "LULC 2000                                                         \n",
      "air           0.801729  0.006424  0.154540  0.000000      0.037307\n",
      "bangunan      0.000000  1.000000  0.000000  0.000000      0.000000\n",
      "vegetasi      0.011834  0.019749  0.570967  0.131023      0.266426\n",
      "sawah         0.000000  0.023185  0.000000  0.976815      0.000000\n",
      "lahan kosong  0.040549  0.140627  0.235738  0.000000      0.583086 \n",
      "\n"
     ]
    }
   ],
   "source": [
    "# Hitung jumlah baris dalam tabel silang\n",
    "row_sums = crosstab.sum(axis=1)  \n",
    "\n",
    "# Hitung matriks probabilitas\n",
    "probability_matrix = crosstab.div(row_sums, axis=0)  \n",
    "\n",
    "# Cetak matriks probabilitas\n",
    "print(\"Matriks Probabilitas: \"+\"\\n\", probability_matrix, \"\\n\")  \n",
    "\n",
    "# Tentukan nama file untuk menyimpan matriks probabilitas sebagai teks\n",
    "output_file_matriksprob = 'matriks_probabilitas.txt'  \n",
    "\n",
    "# Simpan matriks probabilitas sebagai file CSV\n",
    "probability_matrix.to_csv(output_file_matriksprob, float_format='%f', sep=',') "
   ]
  },
  {
   "cell_type": "code",
   "execution_count": null,
   "id": "3d3d183c-d352-47b9-ac36-a3b3b5e50ec9",
   "metadata": {},
   "outputs": [],
   "source": []
  }
 ],
 "metadata": {
  "kernelspec": {
   "display_name": "Python 3 (ipykernel)",
   "language": "python",
   "name": "python3"
  },
  "language_info": {
   "codemirror_mode": {
    "name": "ipython",
    "version": 3
   },
   "file_extension": ".py",
   "mimetype": "text/x-python",
   "name": "python",
   "nbconvert_exporter": "python",
   "pygments_lexer": "ipython3",
   "version": "3.10.13"
  }
 },
 "nbformat": 4,
 "nbformat_minor": 5
}
